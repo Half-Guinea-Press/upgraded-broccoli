{
 "cells": [
  {
   "cell_type": "code",
   "execution_count": null,
   "metadata": {},
   "outputs": [],
   "source": [
    "pip install pdfminer.six"
   ]
  },
  {
   "cell_type": "code",
   "execution_count": null,
   "metadata": {},
   "outputs": [],
   "source": [
    "import os\n",
    "import camelot\n",
    "from datetime import datetime\n",
    "from pdfminer.high_level import extract_text"
   ]
  },
  {
   "cell_type": "code",
   "execution_count": null,
   "metadata": {},
   "outputs": [],
   "source": [
    "#Functions\n",
    "\n",
    "#Time Hack\n",
    "def time_hack():\n",
    "    now = datetime.now()\n",
    "    dt_string =  now.strftime(\"%d%m%Y_%H%M%S\")\n",
    "    return dt_string\n",
    "\n",
    "# hack = time_hack()\n",
    "\n",
    "\n",
    "def get_files(path):\n",
    "    for file in os.listdir(path):\n",
    "        if os.path.isfile(os.path.join(path, file)):\n",
    "            yield file"
   ]
  },
  {
   "cell_type": "code",
   "execution_count": null,
   "metadata": {},
   "outputs": [],
   "source": [
    "#Establish Needed Variables\n",
    "main_dir = \"/\"\n",
    "input_dir = \"/github repos/redesigned-waddle/input/\"\n",
    "output_dir = \"/github repos/redesigned-waddle/output/\"\n",
    "hack = time_hack()"
   ]
  },
  {
   "cell_type": "code",
   "execution_count": null,
   "metadata": {},
   "outputs": [],
   "source": [
    "os.chdir(input_dir)\n",
    "text  = extract_text('GHX-Transaction_1282850122106185.pdf', 'rb')\n",
    "print(text)"
   ]
  },
  {
   "cell_type": "code",
   "execution_count": null,
   "metadata": {},
   "outputs": [],
   "source": [
    "#verify all input files are in input folder\n",
    "#get list of files in folder\n",
    "input_files = getfiles(input_dir)\n",
    "#loop through each file in folder\n",
    "for file in input_files:\n",
    "    text = extract_text(file,'rb')\n",
    "    \n",
    "#extract text from file\n",
    "#extract table from file\n",
    "#compare and consolidate text and table\n",
    "#save text and table into excel file\n"
   ]
  }
 ],
 "metadata": {
  "kernelspec": {
   "display_name": "Python 3.10.5 64-bit",
   "language": "python",
   "name": "python3"
  },
  "language_info": {
   "name": "python",
   "version": "3.10.5"
  },
  "orig_nbformat": 4,
  "vscode": {
   "interpreter": {
    "hash": "e319ebdcfb939e0b273658355f92f0286e6943b861e13a41c6d3066992ac6406"
   }
  }
 },
 "nbformat": 4,
 "nbformat_minor": 2
}
